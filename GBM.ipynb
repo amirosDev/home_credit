{
 "cells": [
  {
   "cell_type": "code",
   "execution_count": 11,
   "metadata": {},
   "outputs": [],
   "source": [
    "from sklearn.ensemble import GradientBoostingClassifier\n",
    "import pandas as pd\n",
    "from ml_models_results import reglog_model_results\n",
    "from ml_models_results import resmpling_data\n",
    "from sklearn.model_selection import RandomizedSearchCV\n",
    "from data_processing import prepare_data"
   ]
  },
  {
   "cell_type": "code",
   "execution_count": 2,
   "metadata": {},
   "outputs": [],
   "source": [
    "# Import datasets\n",
    "dict_data = prepare_data(path_to=\"data/application_train.csv\")"
   ]
  },
  {
   "cell_type": "code",
   "execution_count": null,
   "metadata": {},
   "outputs": [],
   "source": [
    "data_train = dict_data['data_train']\n",
    "data_val =  dict_data['data_val']\n",
    "data_test = dict_data['data_test']"
   ]
  },
  {
   "cell_type": "code",
   "execution_count": 3,
   "metadata": {},
   "outputs": [],
   "source": [
    "# Get target variable from each data\n",
    "y_train = data_train['TARGET']\n",
    "y_val = data_val['TARGET']\n",
    "y_test = data_test['TARGET']"
   ]
  },
  {
   "cell_type": "code",
   "execution_count": 4,
   "metadata": {},
   "outputs": [],
   "source": [
    "# drop target variable from each dataset\n",
    "data_train_model = data_train.drop(['TARGET'], axis=1)\n",
    "data_val_model = data_val.drop(['TARGET'], axis=1)\n",
    "data_test_model = data_test.drop(['TARGET'], axis=1)"
   ]
  },
  {
   "cell_type": "code",
   "execution_count": 5,
   "metadata": {},
   "outputs": [],
   "source": [
    "##########  GBM model   #############\n",
    "model = GradientBoostingClassifier(random_state=10)\n",
    "model1 = model.fit (data_train_model,y_train)"
   ]
  },
  {
   "cell_type": "code",
   "execution_count": 6,
   "metadata": {},
   "outputs": [],
   "source": [
    "### model results\n",
    "results_model1 = reglog_model_results(model1,data_val_model,y_val,y_train)"
   ]
  },
  {
   "cell_type": "code",
   "execution_count": 7,
   "metadata": {},
   "outputs": [
    {
     "data": {
      "text/plain": [
       "0.7146445881906494"
      ]
     },
     "execution_count": 7,
     "metadata": {},
     "output_type": "execute_result"
    }
   ],
   "source": [
    "results_model1['AUC']"
   ]
  }
 ],
 "metadata": {
  "kernelspec": {
   "display_name": "Python [conda env:kaggleproj]",
   "language": "python",
   "name": "conda-env-kaggleproj-py"
  },
  "language_info": {
   "codemirror_mode": {
    "name": "ipython",
    "version": 3.0
   },
   "file_extension": ".py",
   "mimetype": "text/x-python",
   "name": "python",
   "nbconvert_exporter": "python",
   "pygments_lexer": "ipython3",
   "version": "3.6.5"
  }
 },
 "nbformat": 4,
 "nbformat_minor": 0
}