{
 "cells": [
  {
   "cell_type": "markdown",
   "metadata": {},
   "source": [
    "# Results presentation :"
   ]
  },
  {
   "cell_type": "markdown",
   "metadata": {},
   "source": [
    "## 1. Import Librarires"
   ]
  },
  {
   "cell_type": "code",
   "execution_count": 95,
   "metadata": {},
   "outputs": [],
   "source": [
    "import pandas as pd\n",
    "from sklearn import metrics\n",
    "from sklearn.utils import resample\n",
    "from ml_models_results import resmpling_data\n",
    "from sklearn.utils import resample\n",
    "from data_processing import train_val_size\n",
    "from data_processing import prepare_data_brut\n",
    "from data_processing import prepare_data\n",
    "from sklearn.linear_model import LogisticRegression\n",
    "from sklearn.ensemble import GradientBoostingClassifier\n",
    "from ml_models_results import reglog_model_results\n",
    "from ml_models_results import results_model_data\n",
    "from ml_models_results import results_model_dict\n",
    "from ml_models_results import roc_curve_show\n",
    "from ml_models_results import confusion_matrix\n",
    "from sklearn.model_selection import RandomizedSearchCV\n",
    "from statistics import mean,stdev,median\n",
    "from prettytable import PrettyTable"
   ]
  },
  {
   "cell_type": "markdown",
   "metadata": {},
   "source": [
    "## 2. Logistic Regression"
   ]
  },
  {
   "cell_type": "markdown",
   "metadata": {},
   "source": [
    "### Preparing data :"
   ]
  },
  {
   "cell_type": "markdown",
   "metadata": {},
   "source": [
    "We prepare 3 datasets : Train, Validation and Test datasets and we put them into a dictionary."
   ]
  },
  {
   "cell_type": "code",
   "execution_count": 96,
   "metadata": {},
   "outputs": [],
   "source": [
    "dict_data = prepare_data(path_to=\"data/application_train.csv\")"
   ]
  },
  {
   "cell_type": "markdown",
   "metadata": {},
   "source": [
    "Validation data"
   ]
  },
  {
   "cell_type": "code",
   "execution_count": 97,
   "metadata": {},
   "outputs": [],
   "source": [
    "data_val = dict_data['data_val']\n",
    "y_val = data_val['TARGET']\n",
    "data_val_model = data_val.drop(['TARGET'], axis=1)"
   ]
  },
  {
   "cell_type": "markdown",
   "metadata": {},
   "source": [
    "### Applying model :"
   ]
  },
  {
   "cell_type": "markdown",
   "metadata": {},
   "source": [
    "First of all, we implement the standart logistic regression model : <strong> unbalanced classes </strong>"
   ]
  },
  {
   "cell_type": "code",
   "execution_count": 98,
   "metadata": {},
   "outputs": [],
   "source": [
    "model = LogisticRegression()"
   ]
  },
  {
   "cell_type": "code",
   "execution_count": 99,
   "metadata": {},
   "outputs": [],
   "source": [
    "logreg_results = results_model_dict(model,dict_data)"
   ]
  },
  {
   "cell_type": "markdown",
   "metadata": {},
   "source": [
    "### Model results :"
   ]
  },
  {
   "cell_type": "markdown",
   "metadata": {},
   "source": [
    "#### AUC"
   ]
  },
  {
   "cell_type": "code",
   "execution_count": 100,
   "metadata": {},
   "outputs": [
    {
     "data": {
      "text/plain": [
       "0.6231714116075522"
      ]
     },
     "execution_count": 100,
     "metadata": {},
     "output_type": "execute_result"
    }
   ],
   "source": [
    "logreg_results['AUC']"
   ]
  },
  {
   "cell_type": "markdown",
   "metadata": {},
   "source": [
    "#### Accuracy"
   ]
  },
  {
   "cell_type": "code",
   "execution_count": 101,
   "metadata": {},
   "outputs": [
    {
     "data": {
      "text/plain": [
       "0.9182465610874443"
      ]
     },
     "execution_count": 101,
     "metadata": {},
     "output_type": "execute_result"
    }
   ],
   "source": [
    "logreg_results['Accuracy']"
   ]
  },
  {
   "cell_type": "markdown",
   "metadata": {},
   "source": [
    "#### Confusion Matrix"
   ]
  },
  {
   "cell_type": "markdown",
   "metadata": {},
   "source": [
    "*Y distribution :"
   ]
  },
  {
   "cell_type": "code",
   "execution_count": 102,
   "metadata": {},
   "outputs": [
    {
     "data": {
      "text/plain": [
       "0    56474\n",
       "1     5028\n",
       "Name: TARGET, dtype: int64"
      ]
     },
     "execution_count": 102,
     "metadata": {},
     "output_type": "execute_result"
    }
   ],
   "source": [
    "dist = y_val.value_counts()\n",
    "dist"
   ]
  },
  {
   "cell_type": "markdown",
   "metadata": {},
   "source": [
    "*Confusion Matrix"
   ]
  },
  {
   "cell_type": "code",
   "execution_count": 103,
   "metadata": {},
   "outputs": [
    {
     "name": "stdout",
     "output_type": "stream",
     "text": [
      "+----------+-------------+-------------+\n",
      "|          | Predicted 0 | Predicted 1 |\n",
      "+----------+-------------+-------------+\n",
      "| Actual 0 |    56474    |      0      |\n",
      "| Actual 1 |     5028    |      0      |\n",
      "+----------+-------------+-------------+\n"
     ]
    }
   ],
   "source": [
    "cm = logreg_results['Confusion_Matrix']\n",
    "confusion_matrix(cm)"
   ]
  },
  {
   "cell_type": "markdown",
   "metadata": {},
   "source": [
    "The accuracy is very high and the AUC > 0.5 but the model is bad because <strong> the class \"1\" is unpredicted. </strong>  "
   ]
  },
  {
   "cell_type": "code",
   "execution_count": 104,
   "metadata": {},
   "outputs": [
    {
     "data": {
      "text/plain": [
       "'True Postive en % = 100.0 %'"
      ]
     },
     "execution_count": 104,
     "metadata": {},
     "output_type": "execute_result"
    }
   ],
   "source": [
    "\"True Postive en % = \"+str(round(float(cm[0][0])/float(dist[0])*100,2))+\" %\""
   ]
  },
  {
   "cell_type": "code",
   "execution_count": 105,
   "metadata": {},
   "outputs": [
    {
     "data": {
      "text/plain": [
       "'False Positive en % = 0.0 %'"
      ]
     },
     "execution_count": 105,
     "metadata": {},
     "output_type": "execute_result"
    }
   ],
   "source": [
    "\"False Positive en % = \"+str(round(float(cm[1][1])/float(dist[1])*100,2))+\" %\""
   ]
  },
  {
   "cell_type": "markdown",
   "metadata": {},
   "source": [
    "#### ROC CURVE"
   ]
  },
  {
   "cell_type": "code",
   "execution_count": 106,
   "metadata": {},
   "outputs": [
    {
     "data": {
      "image/png": "[encoded data removed]",
      "text/plain": [
       "<Figure size 432x288 with 1 Axes>"
      ]
     },
     "metadata": {
      "needs_background": "light"
     },
     "output_type": "display_data"
    }
   ],
   "source": [
    "roc_curve_show(model,data_val_model,y_val)"
   ]
  },
  {
   "cell_type": "markdown",
   "metadata": {},
   "source": [
    "##########################################################################################"
   ]
  },
  {
   "cell_type": "markdown",
   "metadata": {},
   "source": [
    "In order to improve the model, we try to implement it with <strong> balanced classes </strong>"
   ]
  },
  {
   "cell_type": "code",
   "execution_count": 107,
   "metadata": {},
   "outputs": [],
   "source": [
    "model_balanced = LogisticRegression(class_weight='balanced')"
   ]
  },
  {
   "cell_type": "code",
   "execution_count": 108,
   "metadata": {},
   "outputs": [],
   "source": [
    "logreg_results_balanced = results_model_dict(model_balanced,dict_data)"
   ]
  },
  {
   "cell_type": "markdown",
   "metadata": {},
   "source": [
    "### Model results :"
   ]
  },
  {
   "cell_type": "markdown",
   "metadata": {},
   "source": [
    "#### AUC"
   ]
  },
  {
   "cell_type": "code",
   "execution_count": 109,
   "metadata": {},
   "outputs": [
    {
     "data": {
      "text/plain": [
       "0.6105581911251308"
      ]
     },
     "execution_count": 109,
     "metadata": {},
     "output_type": "execute_result"
    }
   ],
   "source": [
    "logreg_results_balanced['AUC']"
   ]
  },
  {
   "cell_type": "markdown",
   "metadata": {},
   "source": [
    "#### Accuracy"
   ]
  },
  {
   "cell_type": "code",
   "execution_count": 110,
   "metadata": {},
   "outputs": [
    {
     "data": {
      "text/plain": [
       "0.5925335761438653"
      ]
     },
     "execution_count": 110,
     "metadata": {},
     "output_type": "execute_result"
    }
   ],
   "source": [
    "logreg_results_balanced['Accuracy']"
   ]
  },
  {
   "cell_type": "markdown",
   "metadata": {},
   "source": [
    "#### Confusion Matrix"
   ]
  },
  {
   "cell_type": "markdown",
   "metadata": {},
   "source": [
    "Y distribution :"
   ]
  },
  {
   "cell_type": "code",
   "execution_count": 111,
   "metadata": {},
   "outputs": [
    {
     "data": {
      "text/plain": [
       "0    56474\n",
       "1     5028\n",
       "Name: TARGET, dtype: int64"
      ]
     },
     "execution_count": 111,
     "metadata": {},
     "output_type": "execute_result"
    }
   ],
   "source": [
    "dist = y_val.value_counts()\n",
    "dist"
   ]
  },
  {
   "cell_type": "markdown",
   "metadata": {},
   "source": [
    "Confusion Matrix"
   ]
  },
  {
   "cell_type": "code",
   "execution_count": 112,
   "metadata": {},
   "outputs": [
    {
     "name": "stdout",
     "output_type": "stream",
     "text": [
      "+----------+-------------+-------------+\n",
      "|          | Predicted 0 | Predicted 1 |\n",
      "+----------+-------------+-------------+\n",
      "| Actual 0 |    33561    |    22913    |\n",
      "| Actual 1 |     2147    |     2881    |\n",
      "+----------+-------------+-------------+\n"
     ]
    }
   ],
   "source": [
    "cm_balanced = logreg_results_balanced['Confusion_Matrix']\n",
    "confusion_matrix(cm_balanced)"
   ]
  },
  {
   "cell_type": "code",
   "execution_count": 113,
   "metadata": {},
   "outputs": [
    {
     "data": {
      "text/plain": [
       "'True Postive en % = 59.43 %'"
      ]
     },
     "execution_count": 113,
     "metadata": {},
     "output_type": "execute_result"
    }
   ],
   "source": [
    "\"True Postive en % = \"+str(round(float(cm_balanced[0][0])/float(dist[0])*100,2))+\" %\""
   ]
  },
  {
   "cell_type": "code",
   "execution_count": 114,
   "metadata": {},
   "outputs": [
    {
     "data": {
      "text/plain": [
       "'False Positive en % = 57.3 %'"
      ]
     },
     "execution_count": 114,
     "metadata": {},
     "output_type": "execute_result"
    }
   ],
   "source": [
    "\"False Positive en % = \"+str(round(float(cm_balanced[1][1])/float(dist[1])*100,2))+\" %\""
   ]
  },
  {
   "cell_type": "markdown",
   "metadata": {},
   "source": [
    "The <strong> AUC increased </strong> compared to the first model but the <strong> accuracy highly decreased </strong>. This model can predict the class \"1\" with a percentage of 63.13 %. We can say that this model is better than the previous one."
   ]
  },
  {
   "cell_type": "markdown",
   "metadata": {},
   "source": [
    "#### ROC CURVE"
   ]
  },
  {
   "cell_type": "code",
   "execution_count": 115,
   "metadata": {},
   "outputs": [
    {
     "data": {
      "image/png": "[encoded data removed]",
      "text/plain": [
       "<Figure size 432x288 with 1 Axes>"
      ]
     },
     "metadata": {
      "needs_background": "light"
     },
     "output_type": "display_data"
    }
   ],
   "source": [
    "roc_curve_show(model_balanced,data_val_model,y_val)"
   ]
  },
  {
   "cell_type": "markdown",
   "metadata": {},
   "source": [
    "#########################################################################################"
   ]
  },
  {
   "cell_type": "markdown",
   "metadata": {},
   "source": [
    "We tried the Logistic Regression Model with <strong> subsampling data </strong>.<br/>\n",
    "We get a sample from \"0\" class with the same number of elements for the class \"1\"."
   ]
  },
  {
   "cell_type": "markdown",
   "metadata": {},
   "source": [
    "Percentage to sample :"
   ]
  },
  {
   "cell_type": "code",
   "execution_count": 116,
   "metadata": {},
   "outputs": [
    {
     "data": {
      "text/plain": [
       "'Percentage_to_sample = 9.0 %'"
      ]
     },
     "execution_count": 116,
     "metadata": {},
     "output_type": "execute_result"
    }
   ],
   "source": [
    "data = dict_data['data_train']\n",
    "y = data['TARGET']\n",
    "percentage_to_sample = round(float(y.value_counts()[1])/float(y.value_counts()[0])*100)\n",
    "\"Percentage_to_sample = \"+str(percentage_to_sample)+\" %\""
   ]
  },
  {
   "cell_type": "code",
   "execution_count": 117,
   "metadata": {},
   "outputs": [],
   "source": [
    "data_resampled = resmpling_data(data,9)"
   ]
  },
  {
   "cell_type": "code",
   "execution_count": 118,
   "metadata": {},
   "outputs": [],
   "source": [
    "model = LogisticRegression()\n",
    "logreg_results_resampled = results_model_data(model,data_resampled)"
   ]
  },
  {
   "cell_type": "markdown",
   "metadata": {},
   "source": [
    "### Model results :"
   ]
  },
  {
   "cell_type": "markdown",
   "metadata": {},
   "source": [
    "#### AUC"
   ]
  },
  {
   "cell_type": "code",
   "execution_count": 119,
   "metadata": {},
   "outputs": [
    {
     "data": {
      "text/plain": [
       "0.6025815743183817"
      ]
     },
     "execution_count": 119,
     "metadata": {},
     "output_type": "execute_result"
    }
   ],
   "source": [
    "logreg_results_resampled['AUC']"
   ]
  },
  {
   "cell_type": "markdown",
   "metadata": {},
   "source": [
    "#### Accuracy"
   ]
  },
  {
   "cell_type": "code",
   "execution_count": 120,
   "metadata": {},
   "outputs": [
    {
     "data": {
      "text/plain": [
       "0.5742705570291777"
      ]
     },
     "execution_count": 120,
     "metadata": {},
     "output_type": "execute_result"
    }
   ],
   "source": [
    "logreg_results_resampled['Accuracy']"
   ]
  },
  {
   "cell_type": "markdown",
   "metadata": {},
   "source": [
    "#### Confusion Matrix"
   ]
  },
  {
   "cell_type": "markdown",
   "metadata": {},
   "source": [
    "Y distribution :"
   ]
  },
  {
   "cell_type": "code",
   "execution_count": 121,
   "metadata": {},
   "outputs": [
    {
     "data": {
      "text/plain": [
       "0    3032\n",
       "1    3000\n",
       "Name: TARGET, dtype: int64"
      ]
     },
     "execution_count": 121,
     "metadata": {},
     "output_type": "execute_result"
    }
   ],
   "source": [
    "data_val_resampled = logreg_results_resampled['data_val']\n",
    "y_val_resampled = data_val_resampled['TARGET']\n",
    "dist = y_val_resampled.value_counts()\n",
    "dist"
   ]
  },
  {
   "cell_type": "markdown",
   "metadata": {},
   "source": [
    "Confusion Matrix"
   ]
  },
  {
   "cell_type": "code",
   "execution_count": 122,
   "metadata": {},
   "outputs": [
    {
     "name": "stdout",
     "output_type": "stream",
     "text": [
      "+----------+-------------+-------------+\n",
      "|          | Predicted 0 | Predicted 1 |\n",
      "+----------+-------------+-------------+\n",
      "| Actual 0 |     1867    |     1165    |\n",
      "| Actual 1 |     1403    |     1597    |\n",
      "+----------+-------------+-------------+\n"
     ]
    }
   ],
   "source": [
    "cm_resampled = logreg_results_resampled['Confusion_Matrix']\n",
    "confusion_matrix(cm_resampled)"
   ]
  },
  {
   "cell_type": "code",
   "execution_count": 123,
   "metadata": {},
   "outputs": [
    {
     "data": {
      "text/plain": [
       "'True Postive en % = 61.58 %'"
      ]
     },
     "execution_count": 123,
     "metadata": {},
     "output_type": "execute_result"
    }
   ],
   "source": [
    "\"True Postive en % = \"+str(round(float(cm_resampled[0][0])/float(dist[0])*100,2))+\" %\""
   ]
  },
  {
   "cell_type": "code",
   "execution_count": 124,
   "metadata": {},
   "outputs": [
    {
     "data": {
      "text/plain": [
       "'False Positive en % = 53.23 %'"
      ]
     },
     "execution_count": 124,
     "metadata": {},
     "output_type": "execute_result"
    }
   ],
   "source": [
    "\"False Positive en % = \"+str(round(float(cm_resampled[1][1])/float(dist[1])*100,2))+\" %\""
   ]
  },
  {
   "cell_type": "markdown",
   "metadata": {},
   "source": [
    "#########################################################################################"
   ]
  },
  {
   "cell_type": "markdown",
   "metadata": {},
   "source": [
    "So, we can conclude that the model with balanced classes is the most appropriate one for the Logistic Regression algorithm."
   ]
  },
  {
   "cell_type": "markdown",
   "metadata": {},
   "source": [
    "Then, we check the <strong> standard deviation of 10 models </strong> implemented with Logistic Regression."
   ]
  },
  {
   "cell_type": "markdown",
   "metadata": {},
   "source": [
    "### Import dataset"
   ]
  },
  {
   "cell_type": "code",
   "execution_count": 125,
   "metadata": {},
   "outputs": [],
   "source": [
    "data = prepare_data_brut(path_to=\"data/application_train.csv\")"
   ]
  },
  {
   "cell_type": "markdown",
   "metadata": {},
   "source": [
    "### List of auc result models"
   ]
  },
  {
   "cell_type": "code",
   "execution_count": 126,
   "metadata": {},
   "outputs": [],
   "source": [
    "auc_results = list()\n",
    "accuracy_results = list()"
   ]
  },
  {
   "cell_type": "code",
   "execution_count": 127,
   "metadata": {},
   "outputs": [],
   "source": [
    "for i in range(0,10):\n",
    "    auc = results_model_data(model_balanced,data)['AUC']\n",
    "    accuracy = results_model_data(model_balanced,data)['Accuracy'] \n",
    "    auc_results.append(auc)\n",
    "    accuracy_results.append(accuracy)\n"
   ]
  },
  {
   "cell_type": "markdown",
   "metadata": {},
   "source": [
    "### Table of results"
   ]
  },
  {
   "cell_type": "code",
   "execution_count": 128,
   "metadata": {},
   "outputs": [],
   "source": [
    "t = PrettyTable(['Model', 'accuracy','AUC'])"
   ]
  },
  {
   "cell_type": "code",
   "execution_count": 129,
   "metadata": {},
   "outputs": [
    {
     "name": "stdout",
     "output_type": "stream",
     "text": [
      "+--------------------+--------------------+--------------------+\n",
      "|       Model        |      accuracy      |        AUC         |\n",
      "+--------------------+--------------------+--------------------+\n",
      "|      model 1       |      0.61679       |      0.68457       |\n",
      "|      model 2       |       0.5954       |      0.62904       |\n",
      "|      model 3       |      0.59209       |      0.62468       |\n",
      "|      model 4       |      0.62201       |      0.68945       |\n",
      "|      model 5       |      0.59183       |      0.64507       |\n",
      "|      model 6       |      0.62972       |      0.66697       |\n",
      "|      model 7       |      0.60138       |      0.61748       |\n",
      "|      model 8       |      0.63398       |      0.66117       |\n",
      "|      model 9       |      0.62109       |      0.67213       |\n",
      "|      model 10      |      0.62665       |       0.6593       |\n",
      "|        Mean        | 0.613093883125752  | 0.6549864743113706 |\n",
      "| Standard deviation |  0.0163189910346   |  0.0250636115853   |\n",
      "|       Median       | 0.6189392214887321 | 0.6602370059901843 |\n",
      "+--------------------+--------------------+--------------------+\n"
     ]
    }
   ],
   "source": [
    "for i in range(0,10):\n",
    "    m = \"model\"+\" \"+str(i+1)\n",
    "    t.add_row([m,round(accuracy_results[i],5),round(auc_results[i],5)])\n",
    "\n",
    "t.add_row([\"Mean\",mean(accuracy_results),mean(auc_results)])\n",
    "t.add_row([\"Standard deviation\",stdev(accuracy_results),stdev(auc_results)])\n",
    "t.add_row([\"Median\",median(accuracy_results),median(auc_results)])\n",
    "print(t)"
   ]
  },
  {
   "cell_type": "markdown",
   "metadata": {},
   "source": [
    "#################################################################################"
   ]
  },
  {
   "cell_type": "markdown",
   "metadata": {},
   "source": [
    "## 3. Gradient Boosting Machine"
   ]
  },
  {
   "cell_type": "markdown",
   "metadata": {},
   "source": [
    "### Prepare Data"
   ]
  },
  {
   "cell_type": "code",
   "execution_count": 130,
   "metadata": {},
   "outputs": [],
   "source": [
    "dict_data = prepare_data(path_to=\"data/application_train.csv\")"
   ]
  },
  {
   "cell_type": "markdown",
   "metadata": {},
   "source": [
    "Validation data"
   ]
  },
  {
   "cell_type": "code",
   "execution_count": 139,
   "metadata": {},
   "outputs": [],
   "source": [
    "data_val = dict_data['data_val']\n",
    "y_val = data_val['TARGET']\n",
    "data_val_model = data_val.drop(['TARGET'], axis=1)"
   ]
  },
  {
   "cell_type": "markdown",
   "metadata": {},
   "source": [
    "### Apply Model"
   ]
  },
  {
   "cell_type": "code",
   "execution_count": 131,
   "metadata": {},
   "outputs": [],
   "source": [
    "model = GradientBoostingClassifier()"
   ]
  },
  {
   "cell_type": "code",
   "execution_count": 132,
   "metadata": {},
   "outputs": [],
   "source": [
    "gbm_results = results_model_dict(model,dict_data)"
   ]
  },
  {
   "cell_type": "markdown",
   "metadata": {},
   "source": [
    "### Model results :"
   ]
  },
  {
   "cell_type": "markdown",
   "metadata": {},
   "source": [
    "#### AUC"
   ]
  },
  {
   "cell_type": "code",
   "execution_count": 133,
   "metadata": {},
   "outputs": [
    {
     "data": {
      "text/plain": [
       "0.7149502410593829"
      ]
     },
     "execution_count": 133,
     "metadata": {},
     "output_type": "execute_result"
    }
   ],
   "source": [
    "gbm_results['AUC']"
   ]
  },
  {
   "cell_type": "markdown",
   "metadata": {},
   "source": [
    "#### Accuracy"
   ]
  },
  {
   "cell_type": "code",
   "execution_count": 134,
   "metadata": {},
   "outputs": [
    {
     "data": {
      "text/plain": [
       "0.9188156482716009"
      ]
     },
     "execution_count": 134,
     "metadata": {},
     "output_type": "execute_result"
    }
   ],
   "source": [
    "gbm_results['Accuracy']"
   ]
  },
  {
   "cell_type": "markdown",
   "metadata": {},
   "source": [
    "#### Confusion Matrix"
   ]
  },
  {
   "cell_type": "markdown",
   "metadata": {},
   "source": [
    "*Y distribution :"
   ]
  },
  {
   "cell_type": "code",
   "execution_count": 140,
   "metadata": {},
   "outputs": [
    {
     "data": {
      "text/plain": [
       "0    56515\n",
       "1     4987\n",
       "Name: TARGET, dtype: int64"
      ]
     },
     "execution_count": 140,
     "metadata": {},
     "output_type": "execute_result"
    }
   ],
   "source": [
    "dist = y_val.value_counts()\n",
    "dist"
   ]
  },
  {
   "cell_type": "markdown",
   "metadata": {},
   "source": [
    "*Confusion Matrix"
   ]
  },
  {
   "cell_type": "code",
   "execution_count": 141,
   "metadata": {},
   "outputs": [
    {
     "name": "stdout",
     "output_type": "stream",
     "text": [
      "+----------+-------------+-------------+\n",
      "|          | Predicted 0 | Predicted 1 |\n",
      "+----------+-------------+-------------+\n",
      "| Actual 0 |    56497    |      18     |\n",
      "| Actual 1 |     4975    |      12     |\n",
      "+----------+-------------+-------------+\n"
     ]
    }
   ],
   "source": [
    "cm = gbm_results['Confusion_Matrix']\n",
    "confusion_matrix(cm)"
   ]
  },
  {
   "cell_type": "code",
   "execution_count": 142,
   "metadata": {},
   "outputs": [
    {
     "data": {
      "text/plain": [
       "'True Postive en % = 99.97 %'"
      ]
     },
     "execution_count": 142,
     "metadata": {},
     "output_type": "execute_result"
    }
   ],
   "source": [
    "\"True Postive en % = \"+str(round(float(cm[0][0])/float(dist[0])*100,2))+\" %\""
   ]
  },
  {
   "cell_type": "code",
   "execution_count": 143,
   "metadata": {},
   "outputs": [
    {
     "data": {
      "text/plain": [
       "'False Positive en % = 0.24 %'"
      ]
     },
     "execution_count": 143,
     "metadata": {},
     "output_type": "execute_result"
    }
   ],
   "source": [
    "\"False Positive en % = \"+str(round(float(cm[1][1])/float(dist[1])*100,2))+\" %\""
   ]
  },
  {
   "cell_type": "markdown",
   "metadata": {},
   "source": [
    "## Generate randomly <strong> 10 gbm models </strong> to check their auc and to calculate mean and standard deviation"
   ]
  },
  {
   "cell_type": "markdown",
   "metadata": {},
   "source": [
    "### Prepare Data"
   ]
  },
  {
   "cell_type": "code",
   "execution_count": 144,
   "metadata": {},
   "outputs": [],
   "source": [
    "data = prepare_data_brut(path_to=\"data/application_train.csv\")"
   ]
  },
  {
   "cell_type": "markdown",
   "metadata": {},
   "source": [
    "### List of auc result models"
   ]
  },
  {
   "cell_type": "code",
   "execution_count": 145,
   "metadata": {},
   "outputs": [],
   "source": [
    "auc_results = list()\n",
    "accuracy_results = list()"
   ]
  },
  {
   "cell_type": "code",
   "execution_count": 146,
   "metadata": {},
   "outputs": [],
   "source": [
    "for i in range(0,10):\n",
    "    auc = results_model_data(model,data)['AUC']\n",
    "    accuracy = results_model_data(model,data)['Accuracy'] \n",
    "    auc_results.append(auc)\n",
    "    accuracy_results.append(accuracy)\n"
   ]
  },
  {
   "cell_type": "markdown",
   "metadata": {},
   "source": [
    "### Table of results"
   ]
  },
  {
   "cell_type": "code",
   "execution_count": 147,
   "metadata": {},
   "outputs": [],
   "source": [
    "t = PrettyTable(['Model', 'accuracy','AUC'])"
   ]
  },
  {
   "cell_type": "code",
   "execution_count": 148,
   "metadata": {},
   "outputs": [
    {
     "name": "stdout",
     "output_type": "stream",
     "text": [
      "+--------------------+--------------------+--------------------+\n",
      "|       Model        |      accuracy      |        AUC         |\n",
      "+--------------------+--------------------+--------------------+\n",
      "|      model 1       |      0.91956       |      0.71648       |\n",
      "|      model 2       |      0.91912       |      0.71744       |\n",
      "|      model 3       |      0.91994       |      0.71273       |\n",
      "|      model 4       |      0.91955       |      0.71228       |\n",
      "|      model 5       |      0.91843       |      0.71275       |\n",
      "|      model 6       |      0.91997       |      0.70963       |\n",
      "|      model 7       |      0.91922       |      0.71271       |\n",
      "|      model 8       |      0.91823       |      0.71351       |\n",
      "|      model 9       |      0.91984       |      0.71918       |\n",
      "|      model 10      |      0.91947       |      0.72312       |\n",
      "|        Mean        | 0.9193327046274918 | 0.7149831862166165 |\n",
      "| Standard deviation | 0.000600056616493  |  0.00401923667361  |\n",
      "|       Median       | 0.9195066827095053 | 0.7131329277253433 |\n",
      "+--------------------+--------------------+--------------------+\n"
     ]
    }
   ],
   "source": [
    "for i in range(0,10):\n",
    "    m = \"model\"+\" \"+str(i+1)\n",
    "    t.add_row([m,round(accuracy_results[i],5),round(auc_results[i],5)])\n",
    "\n",
    "t.add_row([\"Mean\",mean(accuracy_results),mean(auc_results)])\n",
    "t.add_row([\"Standard deviation\",stdev(accuracy_results),stdev(auc_results)])\n",
    "t.add_row([\"Median\",median(accuracy_results),median(auc_results)])\n",
    "print(t)"
   ]
  }
 ],
 "metadata": {
  "kernelspec": {
   "display_name": "Python [conda env:kaggleproj]",
   "language": "python",
   "name": "conda-env-kaggleproj-py"
  },
  "language_info": {
   "codemirror_mode": {
    "name": "ipython",
    "version": 2
   },
   "file_extension": ".py",
   "mimetype": "text/x-python",
   "name": "python",
   "nbconvert_exporter": "python",
   "pygments_lexer": "ipython2",
   "version": "2.7.15"
  }
 },
 "nbformat": 4,
 "nbformat_minor": 2
}
